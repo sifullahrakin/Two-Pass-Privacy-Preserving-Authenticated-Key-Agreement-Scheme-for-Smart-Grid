{
  "nbformat": 4,
  "nbformat_minor": 0,
  "metadata": {
    "colab": {
      "provenance": []
    },
    "kernelspec": {
      "name": "python3",
      "display_name": "Python 3"
    },
    "language_info": {
      "name": "python"
    }
  },
  "cells": [
    {
      "cell_type": "code",
      "execution_count": 15,
      "metadata": {
        "id": "xMxoulg4kCsk"
      },
      "outputs": [],
      "source": [
        "import random"
      ]
    },
    {
      "cell_type": "code",
      "source": [
        "x = int(input(\"Enter a value for 'x': \"))\n",
        "z = int(input(\"Enter a value for 'z': \"))\n",
        "sm_pub = random.randint(x, z)\n",
        "sp_pub = random.randint(x, z)"
      ],
      "metadata": {
        "colab": {
          "base_uri": "https://localhost:8080/"
        },
        "id": "FIemEnu7kQ3y",
        "outputId": "d5313469-9a09-4130-d9bf-c3a557161c7d"
      },
      "execution_count": 16,
      "outputs": [
        {
          "name": "stdout",
          "output_type": "stream",
          "text": [
            "Enter a value for 'x': 20\n",
            "Enter a value for 'z': 30\n"
          ]
        }
      ]
    },
    {
      "cell_type": "code",
      "source": [
        "sm_private = random.randint(x, z)\n",
        "sp_private = random.randint(x, z)"
      ],
      "metadata": {
        "id": "3S1uEz8akji9"
      },
      "execution_count": 17,
      "outputs": []
    },
    {
      "cell_type": "code",
      "source": [
        "smart_meter_pub = sm_pub\n",
        "service_prodiver_pub = sp_pub"
      ],
      "metadata": {
        "id": "tx1ZdDBvkmjx"
      },
      "execution_count": 18,
      "outputs": []
    },
    {
      "cell_type": "code",
      "source": [
        "print('')"
      ],
      "metadata": {
        "colab": {
          "base_uri": "https://localhost:8080/"
        },
        "id": "2f9hTE7nkpdx",
        "outputId": "65f170cb-f713-4878-f1bc-130d5510110c"
      },
      "execution_count": 6,
      "outputs": [
        {
          "output_type": "stream",
          "name": "stdout",
          "text": [
            "\n"
          ]
        }
      ]
    },
    {
      "cell_type": "code",
      "source": [
        "print(f'Public Key for Smart Meter : {smart_meter_pub}')\n",
        "print(f'Public Key for Service Provider : {service_prodiver_pub}\\n')"
      ],
      "metadata": {
        "colab": {
          "base_uri": "https://localhost:8080/"
        },
        "id": "p-nbfCqVkrMx",
        "outputId": "44d826ef-9b05-486a-ebb0-237118cfcabb"
      },
      "execution_count": 19,
      "outputs": [
        {
          "output_type": "stream",
          "name": "stdout",
          "text": [
            "Public Key for Smart Meter : 21\n",
            "Public Key for Service Provider : 25\n",
            "\n"
          ]
        }
      ]
    },
    {
      "cell_type": "code",
      "source": [
        "smart_meter_private = sm_private\n",
        "print(f'The Private Key for Smart Meter : {smart_meter_private}')"
      ],
      "metadata": {
        "colab": {
          "base_uri": "https://localhost:8080/"
        },
        "id": "CFoDlQypkuYI",
        "outputId": "c8b5701c-0342-4ec5-f75e-46b01dc5d59d"
      },
      "execution_count": 20,
      "outputs": [
        {
          "output_type": "stream",
          "name": "stdout",
          "text": [
            "The Private Key for Smart Meter : 24\n"
          ]
        }
      ]
    },
    {
      "cell_type": "code",
      "source": [
        "# Gets the generated key for Smart Meter\n",
        "generated_key_sm = int(pow(service_prodiver_pub, smart_meter_private, smart_meter_pub))"
      ],
      "metadata": {
        "id": "-xrWSKoWkyCK"
      },
      "execution_count": 21,
      "outputs": []
    },
    {
      "cell_type": "code",
      "source": [
        "service_prodiver_private = sp_private\n",
        "print(f'The Private Key for Service Provider : {service_prodiver_private}\\n')"
      ],
      "metadata": {
        "colab": {
          "base_uri": "https://localhost:8080/"
        },
        "id": "XGouz5DBk1TC",
        "outputId": "b0e4e31a-f931-4365-9d65-323ba0908f18"
      },
      "execution_count": 22,
      "outputs": [
        {
          "output_type": "stream",
          "name": "stdout",
          "text": [
            "The Private Key for Service Provider : 23\n",
            "\n"
          ]
        }
      ]
    },
    {
      "cell_type": "code",
      "source": [
        "# Gets the generated key for Service Provider.\n",
        "generated_key_sp = int(pow(service_prodiver_pub, service_prodiver_private, smart_meter_pub))"
      ],
      "metadata": {
        "id": "toVZsspxk5lZ"
      },
      "execution_count": 23,
      "outputs": []
    },
    {
      "cell_type": "code",
      "source": [
        "# Secret Key for Smart Meter\n",
        "secret_key_sm = int(pow(generated_key_sp, smart_meter_private, smart_meter_pub))"
      ],
      "metadata": {
        "id": "fEIiYFM-oDS3"
      },
      "execution_count": 24,
      "outputs": []
    },
    {
      "cell_type": "code",
      "source": [
        "# Secret Key for Service Provider\n",
        "secret_key_sp = int(pow(generated_key_sm, service_prodiver_private, smart_meter_pub))"
      ],
      "metadata": {
        "id": "CaIXWR6ZoFS_"
      },
      "execution_count": 25,
      "outputs": []
    },
    {
      "cell_type": "code",
      "source": [
        "print(f'Secret Key for Smart Meter : {secret_key_sm}')\n",
        "print(f'Secret Key for Service Provider : {secret_key_sp}')"
      ],
      "metadata": {
        "colab": {
          "base_uri": "https://localhost:8080/"
        },
        "id": "5yalusMXoNaw",
        "outputId": "51a28988-250b-4cb0-bb4c-ac071002d5d3"
      },
      "execution_count": 26,
      "outputs": [
        {
          "output_type": "stream",
          "name": "stdout",
          "text": [
            "Secret Key for Smart Meter : 1\n",
            "Secret Key for Service Provider : 1\n"
          ]
        }
      ]
    }
  ]
}